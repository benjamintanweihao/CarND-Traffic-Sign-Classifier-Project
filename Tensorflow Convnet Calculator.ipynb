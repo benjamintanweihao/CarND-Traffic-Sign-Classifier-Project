{
 "cells": [
  {
   "cell_type": "code",
   "execution_count": 6,
   "metadata": {},
   "outputs": [
    {
     "name": "stdout",
     "output_type": "stream",
     "text": [
      "4x4\n"
     ]
    }
   ],
   "source": [
    "### Compute output dimensions for conv layer\n",
    "\n",
    "from math import ceil\n",
    "\n",
    "# Given that padding is `VALID`\n",
    "\n",
    "in_dim = 6\n",
    "filter_dim = 3\n",
    "stride = 1\n",
    "\n",
    "out_dim = ceil(float(in_dim - filter_dim + 1) / float(stride))\n",
    "\n",
    "print(\"{0}x{1}\".format(out_dim, out_dim))\n",
    "\n",
    "### Compute pooling"
   ]
  },
  {
   "cell_type": "code",
   "execution_count": null,
   "metadata": {},
   "outputs": [],
   "source": [
    "(?, 30, 30, 6)\n",
    "(?, 15, 15, 6)\n",
    "(?, 13, 13, 16)\n",
    "(?, 6, 6, 16)\n",
    "(?, 4, 4, 32)\n",
    "(?, 2, 2, 32)\n",
    "(?, 128)"
   ]
  }
 ],
 "metadata": {
  "kernelspec": {
   "display_name": "Python 3",
   "language": "python",
   "name": "python3"
  },
  "language_info": {
   "codemirror_mode": {
    "name": "ipython",
    "version": 3
   },
   "file_extension": ".py",
   "mimetype": "text/x-python",
   "name": "python",
   "nbconvert_exporter": "python",
   "pygments_lexer": "ipython3",
   "version": "3.5.2"
  },
  "widgets": {
   "state": {},
   "version": "1.1.2"
  }
 },
 "nbformat": 4,
 "nbformat_minor": 2
}
